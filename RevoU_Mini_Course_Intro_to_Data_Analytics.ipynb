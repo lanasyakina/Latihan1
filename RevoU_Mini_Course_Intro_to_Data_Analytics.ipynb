{
  "nbformat": 4,
  "nbformat_minor": 0,
  "metadata": {
    "colab": {
      "name": "RevoU Mini Course_Intro to Data Analytics",
      "provenance": [],
      "authorship_tag": "ABX9TyMXq2SPP6sWTN6RDtRxSrT3"
    },
    "kernelspec": {
      "name": "python3",
      "display_name": "Python 3"
    },
    "language_info": {
      "name": "python"
    }
  },
  "cells": [
    {
      "cell_type": "code",
      "execution_count": null,
      "metadata": {
        "colab": {
          "base_uri": "https://localhost:8080/"
        },
        "id": "TnnCtgyP_18h",
        "outputId": "aaa3bd39-7815-4a0b-fab4-70cd6a4393b7"
      },
      "outputs": [
        {
          "output_type": "stream",
          "name": "stdout",
          "text": [
            "Hello World!\n"
          ]
        }
      ],
      "source": [
        "print(\"Hello World!\")"
      ]
    },
    {
      "cell_type": "markdown",
      "source": [
        "# **Variabel**"
      ],
      "metadata": {
        "id": "FgsEXoXFBAYZ"
      }
    },
    {
      "cell_type": "code",
      "source": [
        "first_name = 'Lana'\n",
        "last_name = 'Syakina'\n",
        "age = 22\n",
        "gender = 'Female'"
      ],
      "metadata": {
        "id": "ULLvtxEOBFjZ"
      },
      "execution_count": null,
      "outputs": []
    },
    {
      "cell_type": "code",
      "source": [
        "print(first_name)\n",
        "first_name, last_name, age = 'Yo', 'oke', 20\n",
        "print(first_name)"
      ],
      "metadata": {
        "colab": {
          "base_uri": "https://localhost:8080/"
        },
        "id": "a6GYMLrrB3F8",
        "outputId": "eb60402d-4a23-4a64-8266-65e3df09d00d"
      },
      "execution_count": null,
      "outputs": [
        {
          "output_type": "stream",
          "name": "stdout",
          "text": [
            "Lana\n",
            "Yo\n"
          ]
        }
      ]
    },
    {
      "cell_type": "code",
      "source": [
        "print('Perubahan variabel first_name menjadi', first_name)\n",
        "print('Perubahan variabel last_name menjadi', last_name)\n",
        "print('Perubahan variabel age menjadi', age)\n",
        "print('Variabel gender tidak berubah, tetap', gender)"
      ],
      "metadata": {
        "colab": {
          "base_uri": "https://localhost:8080/"
        },
        "id": "q2k3tHkEIXp5",
        "outputId": "be2b2186-7171-4342-f328-e583b8563072"
      },
      "execution_count": null,
      "outputs": [
        {
          "output_type": "stream",
          "name": "stdout",
          "text": [
            "Perubahan variabel first_name menjadi Yo\n",
            "Perubahan variabel last_name menjadi oke\n",
            "Perubahan variabel age menjadi 20\n",
            "Variabel gender tidak berubah, tetap Female\n"
          ]
        }
      ]
    },
    {
      "cell_type": "markdown",
      "source": [
        "**Integer, Float, Boolean, String**"
      ],
      "metadata": {
        "id": "6iwt-QYyCYMP"
      }
    },
    {
      "cell_type": "code",
      "source": [
        "#Melihat tipe data\n",
        "print(type(24))\n",
        "print(type(3.14))\n",
        "print(type('3.14'))\n",
        "print(type(True))\n",
        "\n",
        "x=5\n",
        "type_x = type(x)\n",
        "print('Tipe data x adalah', type_x)\n",
        "\n",
        "y='Indonesia'\n",
        "type(y)\n",
        "print('Tipe data y adalah', type(y))\n",
        "\n",
        "type(False)"
      ],
      "metadata": {
        "colab": {
          "base_uri": "https://localhost:8080/"
        },
        "id": "wq3UaQWFC9ig",
        "outputId": "886e9a39-ae96-49fa-d78f-606c30ef9e53"
      },
      "execution_count": null,
      "outputs": [
        {
          "output_type": "stream",
          "name": "stdout",
          "text": [
            "<class 'int'>\n",
            "<class 'float'>\n",
            "<class 'str'>\n",
            "<class 'bool'>\n",
            "Tipe data x adalah <class 'int'>\n",
            "Tipe data y adalah <class 'str'>\n"
          ]
        },
        {
          "output_type": "execute_result",
          "data": {
            "text/plain": [
              "bool"
            ]
          },
          "metadata": {},
          "execution_count": 32
        }
      ]
    },
    {
      "cell_type": "code",
      "source": [
        "type_x"
      ],
      "metadata": {
        "colab": {
          "base_uri": "https://localhost:8080/"
        },
        "id": "f78TEG-cK2f_",
        "outputId": "bc929cf8-33a8-4ed5-c2ce-f14312e74d35"
      },
      "execution_count": null,
      "outputs": [
        {
          "output_type": "execute_result",
          "data": {
            "text/plain": [
              "int"
            ]
          },
          "metadata": {},
          "execution_count": 19
        }
      ]
    },
    {
      "cell_type": "code",
      "source": [
        "#Menghitung banyaknya karakter\n",
        "y='Indonesia'\n",
        "print(len(y))\n",
        "\n",
        "#Mengetahui indeks ke - atau karakter ke-+1 dari str\n",
        "print(y[0])\n",
        "print(y[5])"
      ],
      "metadata": {
        "colab": {
          "base_uri": "https://localhost:8080/"
        },
        "id": "K5VW8-aGErF8",
        "outputId": "3292dd02-0d0a-4a82-fa36-de8d34d54d0d"
      },
      "execution_count": null,
      "outputs": [
        {
          "output_type": "stream",
          "name": "stdout",
          "text": [
            "9\n",
            "I\n",
            "e\n"
          ]
        }
      ]
    },
    {
      "cell_type": "markdown",
      "source": [
        "**List**"
      ],
      "metadata": {
        "id": "9IIv37vQFZiB"
      }
    },
    {
      "cell_type": "code",
      "source": [
        "this_is_blank_list = []\n",
        "print(this_is_blank_list)"
      ],
      "metadata": {
        "colab": {
          "base_uri": "https://localhost:8080/"
        },
        "id": "ULNSYh4hFb3E",
        "outputId": "266a6529-c677-4c5d-d41d-d0259d38a77d"
      },
      "execution_count": null,
      "outputs": [
        {
          "output_type": "stream",
          "name": "stdout",
          "text": [
            "[]\n"
          ]
        }
      ]
    },
    {
      "cell_type": "code",
      "source": [
        "this_is_also_blank_list = list()\n",
        "print(this_is_also_blank_list)"
      ],
      "metadata": {
        "colab": {
          "base_uri": "https://localhost:8080/"
        },
        "id": "rttGdkngGHr8",
        "outputId": "65cbb6d5-236e-4292-8572-3901429131c7"
      },
      "execution_count": null,
      "outputs": [
        {
          "output_type": "stream",
          "name": "stdout",
          "text": [
            "[]\n"
          ]
        }
      ]
    },
    {
      "cell_type": "code",
      "source": [
        "list_from_string = list('yellow')\n",
        "print(list_from_string)"
      ],
      "metadata": {
        "colab": {
          "base_uri": "https://localhost:8080/"
        },
        "id": "vs943eR1Ggk8",
        "outputId": "96456dff-afd3-4332-ca52-8f51eb9cb8a5"
      },
      "execution_count": null,
      "outputs": [
        {
          "output_type": "stream",
          "name": "stdout",
          "text": [
            "['y', 'e', 'l', 'l', 'o', 'w']\n"
          ]
        }
      ]
    },
    {
      "cell_type": "code",
      "source": [
        "list_angka = [234]\n",
        "print(list_angka)\n",
        "list_angka2 = [12, 30.4]\n",
        "print(list_angka2)\n",
        "print(list_angka, list_angka2)"
      ],
      "metadata": {
        "colab": {
          "base_uri": "https://localhost:8080/"
        },
        "id": "q5eq3nGDG0_B",
        "outputId": "27b6d42c-e015-4c62-bf8a-a1b399acebea"
      },
      "execution_count": null,
      "outputs": [
        {
          "output_type": "stream",
          "name": "stdout",
          "text": [
            "[234]\n",
            "[12, 30.4]\n",
            "[234] [12, 30.4]\n"
          ]
        }
      ]
    },
    {
      "cell_type": "code",
      "source": [
        "also_list_with_string = ['yellow','blue']\n",
        "print(also_list_with_string)"
      ],
      "metadata": {
        "colab": {
          "base_uri": "https://localhost:8080/"
        },
        "id": "zO5l8k8lNzan",
        "outputId": "5fe7fcb4-fc0e-47df-9949-947acc4994d8"
      },
      "execution_count": null,
      "outputs": [
        {
          "output_type": "stream",
          "name": "stdout",
          "text": [
            "['yellow', 'blue']\n"
          ]
        }
      ]
    },
    {
      "cell_type": "code",
      "source": [
        "angka_str = [12, 'yow']\n",
        "print(angka_str)\n",
        "print('angka dan str:', angka_str)\n",
        "print(len(angka_str))\n",
        "print(angka_str[0])\n",
        "print(angka_str[1][2])"
      ],
      "metadata": {
        "colab": {
          "base_uri": "https://localhost:8080/"
        },
        "id": "PzzVvLRTOZBP",
        "outputId": "20e402e3-c4da-4b05-e968-88d840204486"
      },
      "execution_count": null,
      "outputs": [
        {
          "output_type": "stream",
          "name": "stdout",
          "text": [
            "[12, 'yow']\n",
            "angka dan str: [12, 'yow']\n",
            "2\n",
            "12\n",
            "w\n"
          ]
        }
      ]
    },
    {
      "cell_type": "code",
      "source": [
        "first_color, second_color = also_list_with_string\n",
        "print(second_color)"
      ],
      "metadata": {
        "colab": {
          "base_uri": "https://localhost:8080/"
        },
        "id": "3q3Z4rZKQC3y",
        "outputId": "bd7890d7-1841-42f1-f9ba-4a555726e87b"
      },
      "execution_count": null,
      "outputs": [
        {
          "output_type": "stream",
          "name": "stdout",
          "text": [
            "blue\n"
          ]
        }
      ]
    },
    {
      "cell_type": "code",
      "source": [
        "list_more_color = ['yellow', 'blue', 'pink', 'white']\n",
        "f_color, s_color = list_more_color\n",
        "print(f_color)\n",
        "#terlalu banyak value, variabel cuma dua\n",
        "#jumlah value dan variabel harus sama\n",
        "#hasil error"
      ],
      "metadata": {
        "colab": {
          "base_uri": "https://localhost:8080/",
          "height": 246
        },
        "id": "hzAk9U17QaMS",
        "outputId": "387f02a6-6b85-4011-e6c8-1615dc377cea"
      },
      "execution_count": null,
      "outputs": [
        {
          "output_type": "error",
          "ename": "ValueError",
          "evalue": "ignored",
          "traceback": [
            "\u001b[0;31m---------------------------------------------------------------------------\u001b[0m",
            "\u001b[0;31mValueError\u001b[0m                                Traceback (most recent call last)",
            "\u001b[0;32m<ipython-input-38-e1339a52524a>\u001b[0m in \u001b[0;36m<module>\u001b[0;34m()\u001b[0m\n\u001b[1;32m      1\u001b[0m \u001b[0mlist_more_color\u001b[0m \u001b[0;34m=\u001b[0m \u001b[0;34m[\u001b[0m\u001b[0;34m'yellow'\u001b[0m\u001b[0;34m,\u001b[0m \u001b[0;34m'blue'\u001b[0m\u001b[0;34m,\u001b[0m \u001b[0;34m'pink'\u001b[0m\u001b[0;34m,\u001b[0m \u001b[0;34m'white'\u001b[0m\u001b[0;34m]\u001b[0m\u001b[0;34m\u001b[0m\u001b[0;34m\u001b[0m\u001b[0m\n\u001b[0;32m----> 2\u001b[0;31m \u001b[0mf_color\u001b[0m\u001b[0;34m,\u001b[0m \u001b[0ms_color\u001b[0m \u001b[0;34m=\u001b[0m \u001b[0mlist_more_color\u001b[0m\u001b[0;34m\u001b[0m\u001b[0;34m\u001b[0m\u001b[0m\n\u001b[0m\u001b[1;32m      3\u001b[0m \u001b[0mprint\u001b[0m\u001b[0;34m(\u001b[0m\u001b[0mf_color\u001b[0m\u001b[0;34m)\u001b[0m\u001b[0;34m\u001b[0m\u001b[0;34m\u001b[0m\u001b[0m\n\u001b[1;32m      4\u001b[0m \u001b[0;31m#terlalu banyak value, variabel cuma dua\u001b[0m\u001b[0;34m\u001b[0m\u001b[0;34m\u001b[0m\u001b[0;34m\u001b[0m\u001b[0m\n\u001b[1;32m      5\u001b[0m \u001b[0;31m#jumlah value dan variabel harus sama\u001b[0m\u001b[0;34m\u001b[0m\u001b[0;34m\u001b[0m\u001b[0;34m\u001b[0m\u001b[0m\n",
            "\u001b[0;31mValueError\u001b[0m: too many values to unpack (expected 2)"
          ]
        }
      ]
    },
    {
      "cell_type": "code",
      "source": [
        "list_more_color = ['yellow', 'blue', 'pink', 'white']\n",
        "f_color, s_color, *other_color = list_more_color\n",
        "print(f_color)\n",
        "print(other_color)"
      ],
      "metadata": {
        "colab": {
          "base_uri": "https://localhost:8080/"
        },
        "outputId": "ae2f12a0-7431-4f11-d465-1d5eda1465fc",
        "id": "to_vaYEpREo9"
      },
      "execution_count": null,
      "outputs": [
        {
          "output_type": "stream",
          "name": "stdout",
          "text": [
            "yellow\n",
            "['pink', 'white']\n"
          ]
        }
      ]
    },
    {
      "cell_type": "markdown",
      "source": [
        "# Tugas Mini Quiz"
      ],
      "metadata": {
        "id": "YOhT6umKDvW2"
      }
    },
    {
      "cell_type": "code",
      "source": [
        "product = ['Apple', 'Orange', 100, 'Grape', 120.33, 'Cherry', 13.00, 'Pear', 500, 'Melon', 'Strawberry']\n",
        "print(type(product[4]))\n",
        "len(product)"
      ],
      "metadata": {
        "colab": {
          "base_uri": "https://localhost:8080/"
        },
        "id": "6lEPB3hUD4DG",
        "outputId": "4fe9692b-aa59-4498-8823-5177ba46905b"
      },
      "execution_count": 45,
      "outputs": [
        {
          "output_type": "stream",
          "name": "stdout",
          "text": [
            "<class 'float'>\n"
          ]
        },
        {
          "output_type": "execute_result",
          "data": {
            "text/plain": [
              "11"
            ]
          },
          "metadata": {},
          "execution_count": 45
        }
      ]
    },
    {
      "cell_type": "code",
      "source": [
        "type_list = set([type(item) for item in product])\n",
        "awal = {}\n",
        "for type_nya in set(type_list):\n",
        "  awal[type_nya] = [item for item in product if type(item) == type_nya]\n",
        " \n",
        "awal"
      ],
      "metadata": {
        "colab": {
          "base_uri": "https://localhost:8080/"
        },
        "id": "00HMZlZIFoSt",
        "outputId": "efd855a7-da08-499c-8e3a-7c6708f6bc77"
      },
      "execution_count": 46,
      "outputs": [
        {
          "output_type": "execute_result",
          "data": {
            "text/plain": [
              "{float: [120.33, 13.0],\n",
              " int: [100, 500],\n",
              " str: ['Apple', 'Orange', 'Grape', 'Cherry', 'Pear', 'Melon', 'Strawberry']}"
            ]
          },
          "metadata": {},
          "execution_count": 46
        }
      ]
    },
    {
      "cell_type": "code",
      "source": [
        "ip=['a',1,2,3]\n",
        "m=[]\n",
        "n=[]\n",
        "for x in range(0,len(ip)): #range(0,4) = (0,1,2,3) \n",
        "  if str(ip[x]).isdigit(): #isdigit : return True\n",
        "    m.append(ip[x]) #append : menambahkan nilai ke dalam list\n",
        "  else:\n",
        "    n.append(ip[x])\n",
        "print(m,n)"
      ],
      "metadata": {
        "colab": {
          "base_uri": "https://localhost:8080/"
        },
        "id": "Vvrl2nrCMjNK",
        "outputId": "8b1f2881-9796-45a2-ea20-7a0700a51cd3"
      },
      "execution_count": 57,
      "outputs": [
        {
          "output_type": "stream",
          "name": "stdout",
          "text": [
            "[1, 2, 3] ['a']\n"
          ]
        }
      ]
    },
    {
      "cell_type": "markdown",
      "source": [
        "Cara I"
      ],
      "metadata": {
        "id": "Wjo196SXLcJP"
      }
    },
    {
      "cell_type": "code",
      "source": [
        "myList = [4, 'a', 'b', 'c', 1, 'd', 3]\n",
        "from collections import defaultdict\n",
        "d = defaultdict(list)\n",
        "for x in myList:\n",
        "   d[type(x)].append(x)\n",
        "\n",
        "print(d[int])\n",
        "print(d[str])\n",
        "print(d[int], d[str])"
      ],
      "metadata": {
        "colab": {
          "base_uri": "https://localhost:8080/"
        },
        "id": "5ITF-Se3M8vT",
        "outputId": "231fa7bb-47e6-4d6f-e5ea-6d9b4e1dbd04"
      },
      "execution_count": 65,
      "outputs": [
        {
          "output_type": "stream",
          "name": "stdout",
          "text": [
            "[4, 1, 3]\n",
            "['a', 'b', 'c', 'd']\n",
            "[4, 1, 3] ['a', 'b', 'c', 'd']\n"
          ]
        }
      ]
    },
    {
      "cell_type": "markdown",
      "source": [
        "Cara II"
      ],
      "metadata": {
        "id": "PQ-yAzgULf2l"
      }
    },
    {
      "cell_type": "code",
      "source": [
        "myList = [4, 'a', 'b', 'c', 1, 'd', 3]\n",
        "myIntList = [x for x in myList if isinstance(x, int)]\n",
        "print(myIntList)\n",
        "#[4, 1, 3]\n",
        "myStrList = [x for x in myList if isinstance(x, str)]\n",
        "print(myStrList)\n",
        "#['a', 'b', 'c', 'd']\n",
        "\n",
        "print(myIntList, myStrList)"
      ],
      "metadata": {
        "colab": {
          "base_uri": "https://localhost:8080/"
        },
        "id": "SgD7e36WNLdh",
        "outputId": "49f776a6-1f47-4b9e-f881-939c9a99e2ec"
      },
      "execution_count": 66,
      "outputs": [
        {
          "output_type": "stream",
          "name": "stdout",
          "text": [
            "[4, 1, 3]\n",
            "['a', 'b', 'c', 'd']\n",
            "[4, 1, 3] ['a', 'b', 'c', 'd']\n"
          ]
        }
      ]
    },
    {
      "cell_type": "code",
      "source": [
        "product = ['Apple', 'Orange', 100, 'Grape', 120.33, 'Cherry', 13.00, 'Pear', 500, 'Melon', 'Strawberry']\n",
        "product_str = [x for x in product if isinstance(x,str)]\n",
        "print(product_str)\n",
        "\n",
        "product_int = [x for x in product if isinstance(x,int)]\n",
        "print(product_int)\n",
        "\n",
        "product_float = [x for x in product if isinstance(x,float)]\n",
        "print(product_float)\n",
        "\n",
        "print(product_str, product_int, product_float)\n",
        "\n",
        "string = product_str\n",
        "number = product_int + product_float\n",
        "number"
      ],
      "metadata": {
        "colab": {
          "base_uri": "https://localhost:8080/"
        },
        "outputId": "e0d8be8f-d391-4cec-8ced-5ba66ac50553",
        "id": "u__t_-Q6N3uh"
      },
      "execution_count": 68,
      "outputs": [
        {
          "output_type": "stream",
          "name": "stdout",
          "text": [
            "['Apple', 'Orange', 'Grape', 'Cherry', 'Pear', 'Melon', 'Strawberry']\n",
            "[100, 500]\n",
            "[120.33, 13.0]\n",
            "['Apple', 'Orange', 'Grape', 'Cherry', 'Pear', 'Melon', 'Strawberry'] [100, 500] [120.33, 13.0]\n"
          ]
        },
        {
          "output_type": "execute_result",
          "data": {
            "text/plain": [
              "[100, 500, 120.33, 13.0]"
            ]
          },
          "metadata": {},
          "execution_count": 68
        }
      ]
    },
    {
      "cell_type": "code",
      "source": [
        "sorted(string, reverse=False)\n",
        "sorted(string, reverse=True)"
      ],
      "metadata": {
        "colab": {
          "base_uri": "https://localhost:8080/"
        },
        "id": "mnpiDRvZbmDj",
        "outputId": "23c8d3f3-bde6-4a6d-828d-af9e22502e00"
      },
      "execution_count": 73,
      "outputs": [
        {
          "output_type": "execute_result",
          "data": {
            "text/plain": [
              "['Strawberry', 'Pear', 'Orange', 'Melon', 'Grape', 'Cherry', 'Apple']"
            ]
          },
          "metadata": {},
          "execution_count": 73
        }
      ]
    },
    {
      "cell_type": "code",
      "source": [
        "#tidak muncul hasil\n",
        "number.sort(reverse=False)"
      ],
      "metadata": {
        "id": "7fTDHAwUcCSf"
      },
      "execution_count": 77,
      "outputs": []
    },
    {
      "cell_type": "code",
      "source": [
        "print(number.sort(reverse=False))"
      ],
      "metadata": {
        "colab": {
          "base_uri": "https://localhost:8080/"
        },
        "outputId": "146b8f5a-4674-4e98-84cf-a3c03f44351c",
        "id": "XNgbKHOAUA-g"
      },
      "execution_count": 78,
      "outputs": [
        {
          "output_type": "stream",
          "name": "stdout",
          "text": [
            "None\n"
          ]
        }
      ]
    },
    {
      "cell_type": "code",
      "source": [
        "#muncul hasil\n",
        "sorted(number, reverse=False)"
      ],
      "metadata": {
        "id": "fGco4fj_cjNY",
        "outputId": "9b147a35-ce02-4a4f-adf2-9aa817e0b57b",
        "colab": {
          "base_uri": "https://localhost:8080/"
        }
      },
      "execution_count": 79,
      "outputs": [
        {
          "output_type": "execute_result",
          "data": {
            "text/plain": [
              "[13.0, 100, 120.33, 500]"
            ]
          },
          "metadata": {},
          "execution_count": 79
        }
      ]
    }
  ]
}