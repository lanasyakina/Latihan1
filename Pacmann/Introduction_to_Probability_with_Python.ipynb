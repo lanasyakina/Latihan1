{
  "nbformat": 4,
  "nbformat_minor": 0,
  "metadata": {
    "colab": {
      "provenance": [],
      "authorship_tag": "ABX9TyNzSvk/Gm0ukh/kLyXhLQMU"
    },
    "kernelspec": {
      "name": "python3",
      "display_name": "Python 3"
    },
    "language_info": {
      "name": "python"
    }
  },
  "cells": [
    {
      "cell_type": "markdown",
      "source": [
        "## **Rolling a Dice**"
      ],
      "metadata": {
        "id": "a7HjEd7tE74n"
      }
    },
    {
      "cell_type": "markdown",
      "source": [
        "### P adalah Probabilitas\n",
        "\n",
        "Kode di bawah ini mengimplementasikan Quote dari Laplace: *Probability is thus simply a fraction whose numerator is the number of favorable cases and whose denominator is the number of all the cases possible.*"
      ],
      "metadata": {
        "id": "ydc6leXMFzX6"
      }
    },
    {
      "cell_type": "code",
      "execution_count": null,
      "metadata": {
        "id": "z47XC-p8VJTR"
      },
      "outputs": [],
      "source": [
        "from fractions import Fraction\n",
        "\n",
        "def P(event, space): \n",
        "    \"The probability of an event, given a sample space.\"\n",
        "    favorable = set.intersection # Outcomes that are in the event and in the sample space\n",
        "    cases     = len              # The number of cases is the length, or size, of a set\n",
        "    return Fraction(cases(favorable(event, space)), \n",
        "                    cases(space))"
      ]
    },
    {
      "cell_type": "markdown",
      "source": [
        "### Warm-up Problem: Die Roll\n",
        "\n",
        "Berapa probabilitas dari dadu 6 sisi untuk keluar angka genap? Untuk melambangkan ruang sampel, biasanya digunakan satu huruf. Disini kita lambangkan dengan `D`:"
      ],
      "metadata": {
        "id": "mlF1LqgRFmmP"
      }
    },
    {
      "cell_type": "code",
      "source": [
        "D     = {1, 2, 3, 4, 5, 6} # a sample space\n",
        "even  = {   2,    4,    6} # an event\n",
        "\n",
        "P(even, D)"
      ],
      "metadata": {
        "colab": {
          "base_uri": "https://localhost:8080/"
        },
        "id": "g2-S31fZFt50",
        "outputId": "6a4927ad-8eac-4d8c-be71-e7969420de14"
      },
      "execution_count": null,
      "outputs": [
        {
          "output_type": "execute_result",
          "data": {
            "text/plain": [
              "Fraction(1, 2)"
            ]
          },
          "metadata": {},
          "execution_count": 23
        }
      ]
    },
    {
      "cell_type": "code",
      "source": [
        "# Untuk mengonfirmasi apa yang sudah kita ketahui, kita akan eksplorasi event lain:\n",
        "\n",
        "prime = {2, 3, 5, 7, 11, 13}\n",
        "odd   = {1, 3, 5, 7, 9, 11, 13}\n",
        "\n",
        "P(odd, D)"
      ],
      "metadata": {
        "colab": {
          "base_uri": "https://localhost:8080/"
        },
        "id": "t8Wt3HjIGC4X",
        "outputId": "558663f8-647e-4d56-cdb9-2b57fd6cc217"
      },
      "execution_count": null,
      "outputs": [
        {
          "output_type": "execute_result",
          "data": {
            "text/plain": [
              "Fraction(1, 2)"
            ]
          },
          "metadata": {},
          "execution_count": 24
        }
      ]
    },
    {
      "cell_type": "code",
      "source": [
        "#### Event gabungan antara bilangan genap dan prima\n",
        "(even | prime)"
      ],
      "metadata": {
        "colab": {
          "base_uri": "https://localhost:8080/"
        },
        "id": "LFGT8-F1GKvC",
        "outputId": "6b2d3254-2367-455f-fbf2-65cf9ca9fb56"
      },
      "execution_count": null,
      "outputs": [
        {
          "output_type": "execute_result",
          "data": {
            "text/plain": [
              "{2, 3, 4, 5, 6, 7, 11, 13}"
            ]
          },
          "metadata": {},
          "execution_count": 25
        }
      ]
    },
    {
      "cell_type": "code",
      "source": [
        "P((even | prime), D) # The probability of an even or prime die roll"
      ],
      "metadata": {
        "colab": {
          "base_uri": "https://localhost:8080/"
        },
        "id": "Kt9YI5KrIg-i",
        "outputId": "ec66eccc-b464-4092-8395-308308060dde"
      },
      "execution_count": null,
      "outputs": [
        {
          "output_type": "execute_result",
          "data": {
            "text/plain": [
              "Fraction(5, 6)"
            ]
          },
          "metadata": {},
          "execution_count": 26
        }
      ]
    },
    {
      "cell_type": "code",
      "source": [
        "#### Event irisan antara bilangan ganjil dan prima\n",
        "(odd & prime)"
      ],
      "metadata": {
        "colab": {
          "base_uri": "https://localhost:8080/"
        },
        "id": "Ql4r7OZYGNsM",
        "outputId": "a85c47fe-e9d2-48ae-ce04-080413530abd"
      },
      "execution_count": null,
      "outputs": [
        {
          "output_type": "execute_result",
          "data": {
            "text/plain": [
              "{3, 5, 7, 11, 13}"
            ]
          },
          "metadata": {},
          "execution_count": 27
        }
      ]
    },
    {
      "cell_type": "code",
      "source": [
        "P((odd & prime), D) # The probability of an odd prime die roll"
      ],
      "metadata": {
        "colab": {
          "base_uri": "https://localhost:8080/"
        },
        "id": "nfGoDSCKIp0n",
        "outputId": "1406b155-3385-4c25-8ecc-89876cbb4284"
      },
      "execution_count": null,
      "outputs": [
        {
          "output_type": "execute_result",
          "data": {
            "text/plain": [
              "Fraction(1, 3)"
            ]
          },
          "metadata": {},
          "execution_count": 28
        }
      ]
    },
    {
      "cell_type": "markdown",
      "source": [
        "## **Card_draws**"
      ],
      "metadata": {
        "id": "hygfB8OmF9lI"
      }
    },
    {
      "cell_type": "markdown",
      "source": [
        "### Card Problems\n",
        "\n",
        "Misal, dalam suatu permainan kartu:\n",
        "* Harus terdapat 5 kartu di tangan. \n",
        "* Kartu memiliki rank(tingkatan) and suit(gambar), seperti `'J♥'` untuk Jack of Hearts  \n",
        "* Sebuah `deck` memiliki 52 kartu:"
      ],
      "metadata": {
        "id": "vFcD5R2VGr6F"
      }
    },
    {
      "cell_type": "code",
      "source": [
        "import itertools\n",
        "from fractions import Fraction\n",
        "\n",
        "def P(event, space): \n",
        "    \"The probability of an event, given a sample space.\"\n",
        "    favorable = set.intersection # Outcomes that are in the event and in the sample space\n",
        "    cases     = len              # The number of cases is the length, or size, of a set\n",
        "    return Fraction(cases(favorable(event, space)), \n",
        "                    cases(space))"
      ],
      "metadata": {
        "id": "cpj8qClpGh7y"
      },
      "execution_count": null,
      "outputs": []
    },
    {
      "cell_type": "code",
      "source": [
        "suits = u'♥♠♦♣'\n",
        "ranks = u'AKQJT98765432'\n",
        "deck  = [r + s for r in ranks for s in suits]\n",
        "len(deck)"
      ],
      "metadata": {
        "colab": {
          "base_uri": "https://localhost:8080/"
        },
        "id": "eZWx1GnHHOWU",
        "outputId": "39b999bb-f63f-4820-bbd2-c1f6d1b3e252"
      },
      "execution_count": null,
      "outputs": [
        {
          "output_type": "execute_result",
          "data": {
            "text/plain": [
              "52"
            ]
          },
          "metadata": {},
          "execution_count": 32
        }
      ]
    },
    {
      "cell_type": "code",
      "source": [
        "deck[:8]"
      ],
      "metadata": {
        "colab": {
          "base_uri": "https://localhost:8080/"
        },
        "id": "N6Z4YWtzHSc9",
        "outputId": "5e841891-f0ea-4498-b0f6-80515cf5fabe"
      },
      "execution_count": null,
      "outputs": [
        {
          "output_type": "execute_result",
          "data": {
            "text/plain": [
              "['A♥', 'A♠', 'A♦', 'A♣', 'K♥', 'K♠', 'K♦', 'K♣']"
            ]
          },
          "metadata": {},
          "execution_count": 33
        }
      ]
    },
    {
      "cell_type": "markdown",
      "source": [
        "Sekarang kita definisikan `Hands` sebagai ruang sampel dari kombinasi 5-kartu dari `deck`. Untuk membuat kombinasi, akan digunakan fungsi `itertools.combinations` ; lalu kita akan menggabungkan masing-masing kombinasi kedalam string dengan pemisah berupas spasi:"
      ],
      "metadata": {
        "id": "oAICI-iYHK55"
      }
    },
    {
      "cell_type": "code",
      "source": [
        "def combos(items, n):\n",
        "    \"All combinations of n items; each combo as a space-separated str.\"\n",
        "    return set(map(' '.join, itertools.combinations(items, n)))\n",
        "\n",
        "Hands = combos(deck, 5)\n",
        "len(Hands)"
      ],
      "metadata": {
        "colab": {
          "base_uri": "https://localhost:8080/"
        },
        "id": "KtIEB8D1HdiL",
        "outputId": "33a65387-d877-4b1d-dbef-54d7e7eaf77f"
      },
      "execution_count": null,
      "outputs": [
        {
          "output_type": "execute_result",
          "data": {
            "text/plain": [
              "2598960"
            ]
          },
          "metadata": {},
          "execution_count": 34
        }
      ]
    },
    {
      "cell_type": "markdown",
      "source": [
        "Kombinasinya akan ada sangat banyak, namun kita dapat mengambil sampel:"
      ],
      "metadata": {
        "id": "qUbmjgiGHkP5"
      }
    },
    {
      "cell_type": "code",
      "source": [
        "import random\n",
        "random.sample(Hands, 7)"
      ],
      "metadata": {
        "colab": {
          "base_uri": "https://localhost:8080/"
        },
        "id": "jxdO6TBbHphz",
        "outputId": "b05bd91f-897d-488b-b10a-89f31532dbec"
      },
      "execution_count": null,
      "outputs": [
        {
          "output_type": "execute_result",
          "data": {
            "text/plain": [
              "['A♥ Q♠ 9♥ 4♣ 2♠',\n",
              " 'A♦ 7♠ 7♦ 4♠ 2♥',\n",
              " 'A♥ Q♠ 7♥ 7♣ 2♦',\n",
              " 'Q♥ T♦ 7♣ 5♣ 2♥',\n",
              " 'A♥ K♠ Q♠ 6♦ 5♦',\n",
              " 'Q♣ 8♥ 7♥ 6♣ 3♥',\n",
              " 'A♦ 9♥ 8♣ 4♥ 2♠']"
            ]
          },
          "metadata": {},
          "execution_count": 35
        }
      ]
    },
    {
      "cell_type": "code",
      "source": [
        "random.sample(deck, 7)"
      ],
      "metadata": {
        "colab": {
          "base_uri": "https://localhost:8080/"
        },
        "id": "HhQkRbtoIBJh",
        "outputId": "2262b845-b0a5-4eb6-d5e8-df6c3f441b60"
      },
      "execution_count": null,
      "outputs": [
        {
          "output_type": "execute_result",
          "data": {
            "text/plain": [
              "['A♥', '3♥', 'K♠', 'Q♣', 'J♦', '6♦', '2♠']"
            ]
          },
          "metadata": {},
          "execution_count": 36
        }
      ]
    },
    {
      "cell_type": "markdown",
      "source": [
        "Sekarang, kita bisa menjawab permasalahan yang lebih kompleks seperti probabilitas untuk mendapatkan flush (5 kartu dengan simbol sama):"
      ],
      "metadata": {
        "id": "S_lIu1ZxHs4B"
      }
    },
    {
      "cell_type": "code",
      "source": [
        "flush = {hand for hand in Hands if any(hand.count(suit) == 5 for suit in suits)}\n",
        "\n",
        "P(flush, Hands)"
      ],
      "metadata": {
        "colab": {
          "base_uri": "https://localhost:8080/"
        },
        "id": "_yMZsocuHvhn",
        "outputId": "297ae60c-8092-4729-b6b5-00a8dff67031"
      },
      "execution_count": null,
      "outputs": [
        {
          "output_type": "execute_result",
          "data": {
            "text/plain": [
              "Fraction(33, 16660)"
            ]
          },
          "metadata": {},
          "execution_count": 37
        }
      ]
    },
    {
      "cell_type": "code",
      "source": [
        "len(flush)"
      ],
      "metadata": {
        "colab": {
          "base_uri": "https://localhost:8080/"
        },
        "id": "nxzR9VpQILJa",
        "outputId": "0c4d1247-8b3b-4271-9ffb-101f1c0e3ce5"
      },
      "execution_count": null,
      "outputs": [
        {
          "output_type": "execute_result",
          "data": {
            "text/plain": [
              "5148"
            ]
          },
          "metadata": {},
          "execution_count": 38
        }
      ]
    },
    {
      "cell_type": "code",
      "source": [
        "random.sample(flush, 3)"
      ],
      "metadata": {
        "colab": {
          "base_uri": "https://localhost:8080/"
        },
        "id": "0dTQ7MbwIL3a",
        "outputId": "c909927d-81bd-4d9a-850f-57b6e876dbe4"
      },
      "execution_count": null,
      "outputs": [
        {
          "output_type": "execute_result",
          "data": {
            "text/plain": [
              "['A♣ J♣ T♣ 5♣ 4♣', 'A♣ K♣ J♣ 7♣ 3♣', 'Q♣ T♣ 8♣ 7♣ 3♣']"
            ]
          },
          "metadata": {},
          "execution_count": 39
        }
      ]
    },
    {
      "cell_type": "markdown",
      "source": [
        "Atau probabilitas dari four of a kind (4 kartu memiliki rank sama):"
      ],
      "metadata": {
        "id": "8Rgj3po5H0vn"
      }
    },
    {
      "cell_type": "code",
      "source": [
        "four_kind = {hand for hand in Hands if any(hand.count(rank) == 4 for rank in ranks)}\n",
        "\n",
        "P(four_kind, Hands)"
      ],
      "metadata": {
        "colab": {
          "base_uri": "https://localhost:8080/"
        },
        "id": "SGtNm-M5H0WM",
        "outputId": "88b294be-f12e-4c1a-a6c5-c36ba0cdff11"
      },
      "execution_count": null,
      "outputs": [
        {
          "output_type": "execute_result",
          "data": {
            "text/plain": [
              "Fraction(1, 4165)"
            ]
          },
          "metadata": {},
          "execution_count": 40
        }
      ]
    },
    {
      "cell_type": "code",
      "source": [
        "random.sample(four_kind, 3)"
      ],
      "metadata": {
        "colab": {
          "base_uri": "https://localhost:8080/"
        },
        "id": "CJUCeYVMJgkV",
        "outputId": "0d00d4cf-6d0b-4b3f-d699-92b50668edb8"
      },
      "execution_count": null,
      "outputs": [
        {
          "output_type": "execute_result",
          "data": {
            "text/plain": [
              "['Q♠ 6♥ 6♠ 6♦ 6♣', '5♠ 4♥ 4♠ 4♦ 4♣', '8♥ 8♠ 8♦ 8♣ 3♥']"
            ]
          },
          "metadata": {},
          "execution_count": 41
        }
      ]
    },
    {
      "cell_type": "markdown",
      "source": [
        "## **Ball in Bag Problem**"
      ],
      "metadata": {
        "id": "XLrjzGjVM88U"
      }
    },
    {
      "cell_type": "markdown",
      "source": [
        "Pada sekitar tahun 1700, Jacob Bernoulli menulis sebuah kasus mengenai pengambilan bola berwarna dari sebuah kantong, dan sejak saat itu, penjelasan mengenai probabilitas sering memakai contoh ini.\n",
        "\n",
        "Sebagai contoh, berikut adalah permasalahan yang diadaptasi dari [mathforum.org](http://mathforum.org/library/drmath/view/69151.html):\n",
        "\n",
        "*Dalam sebuah kantong terdapat bola berwarna dengan jumlah 6 biru, 9 merah, dan 8 putih. Dari kantong tersebut diambil 6 bola random. Berapa probabilitas dari masing-masing hasil dibawah ini:*\n",
        "\n",
        " - *Semua bola merah*.\n",
        " - *3 biru, 1 merah, dan 2 putih*.\n",
        " - *4 bola putih*.\n",
        "\n",
        "Untuk simulasi, kita akan definisikan isi dari kantong. Sebuah `set` tidak dapat memiliki elemen yang sama persis. Sehingga penamaan harus berbeda, misal bola biru diberi kode `'B1'` sampai `'B6'`, bukan 6 elemen yang sama dengan nama `'B'`:"
      ],
      "metadata": {
        "id": "E5K2_K3cN2dy"
      }
    },
    {
      "cell_type": "markdown",
      "source": [
        "### Previous Defined Functions\n",
        "\n"
      ],
      "metadata": {
        "id": "31W9CvZBNaoW"
      }
    },
    {
      "cell_type": "code",
      "source": [
        "import itertools\n",
        "import random\n",
        "from fractions import Fraction\n",
        "\n",
        "def P(event, space): \n",
        "    \"The probability of an event, given a sample space.\"\n",
        "    favorable = set.intersection # Outcomes that are in the event and in the sample space\n",
        "    cases     = len              # The number of cases is the length, or size, of a set\n",
        "    return Fraction(cases(favorable(event, space)), \n",
        "                    cases(space))\n",
        "\n",
        "def combos(items, n):\n",
        "    \"All combinations of n items; each combo as a space-separated str.\"\n",
        "    return set(map(' '.join, itertools.combinations(items, n)))"
      ],
      "metadata": {
        "id": "UlIDtwOYNQZ-"
      },
      "execution_count": null,
      "outputs": []
    },
    {
      "cell_type": "markdown",
      "source": [
        "### Balls in Bag"
      ],
      "metadata": {
        "id": "fFiFYi1uNTLu"
      }
    },
    {
      "cell_type": "code",
      "source": [
        "def balls(color, n):\n",
        "    \"A set of n numbered balls of the given color.\"\n",
        "    return {color + str(i)\n",
        "            for i in range(1, n + 1)}"
      ],
      "metadata": {
        "id": "xnefmcYSOJA9"
      },
      "execution_count": null,
      "outputs": []
    },
    {
      "cell_type": "code",
      "source": [
        "urn = balls('B', 6) | balls('R', 9) | balls('W', 8)"
      ],
      "metadata": {
        "id": "107B1urQORmq"
      },
      "execution_count": 55,
      "outputs": []
    },
    {
      "cell_type": "markdown",
      "source": [
        "Sekarang kita definisikan ruang sampel, `U6`, sebagai set dari kombinasi 6 bola:  "
      ],
      "metadata": {
        "id": "xJXNiL37OO5h"
      }
    },
    {
      "cell_type": "code",
      "source": [
        "U6 = combos(urn, 6)\n",
        "\n",
        "random.sample(U6, 5)"
      ],
      "metadata": {
        "colab": {
          "base_uri": "https://localhost:8080/"
        },
        "id": "y_9p2IdROWNv",
        "outputId": "6ea9cb3e-1766-4466-e5de-f419472ef586"
      },
      "execution_count": null,
      "outputs": [
        {
          "output_type": "execute_result",
          "data": {
            "text/plain": [
              "['B2 W3 W7 R5 W6 W8',\n",
              " 'W4 W5 B3 R4 B1 R8',\n",
              " 'B2 W3 R9 W5 R4 R2',\n",
              " 'W1 R7 W2 B3 R4 R8',\n",
              " 'R6 W4 R5 W5 B3 R2']"
            ]
          },
          "metadata": {},
          "execution_count": 45
        }
      ]
    },
    {
      "cell_type": "markdown",
      "source": [
        "\n",
        "Definisikan fungsi  `select` sehingga `select('R', 6)` adalah kejadian mengambil 6 bola merah dari kantong:"
      ],
      "metadata": {
        "id": "z-NnuRzhOhXc"
      }
    },
    {
      "cell_type": "code",
      "source": [
        "def select(color, n, space=U6):\n",
        "    \"The subset of the sample space with exactly `n` balls of given `color`.\"\n",
        "    return {s for s in space if s.count(color) == n}"
      ],
      "metadata": {
        "id": "5mupl3j-Ogxn"
      },
      "execution_count": null,
      "outputs": []
    },
    {
      "cell_type": "markdown",
      "source": [
        "Sekarang, kita bisa menjawab 3 pertanyaan tadi:"
      ],
      "metadata": {
        "id": "O3YHz1w_OmdO"
      }
    },
    {
      "cell_type": "code",
      "source": [
        "# Semua bola merah\n",
        "P(select('R', 6), U6) "
      ],
      "metadata": {
        "colab": {
          "base_uri": "https://localhost:8080/"
        },
        "id": "G1wVFOcrOqLg",
        "outputId": "293a705f-4d8e-4df8-885d-39e435be338e"
      },
      "execution_count": null,
      "outputs": [
        {
          "output_type": "execute_result",
          "data": {
            "text/plain": [
              "Fraction(4, 4807)"
            ]
          },
          "metadata": {},
          "execution_count": 48
        }
      ]
    },
    {
      "cell_type": "code",
      "source": [
        "# 3 biru, 1 merah, dan 2 putih\n",
        "P(select('B', 3)  & select('R', 1) & select('W', 2), U6)"
      ],
      "metadata": {
        "colab": {
          "base_uri": "https://localhost:8080/"
        },
        "id": "ORw-XL3LOvzU",
        "outputId": "13266bd0-15c5-4360-ae9f-bfeac0e67276"
      },
      "execution_count": null,
      "outputs": [
        {
          "output_type": "execute_result",
          "data": {
            "text/plain": [
              "Fraction(240, 4807)"
            ]
          },
          "metadata": {},
          "execution_count": 49
        }
      ]
    },
    {
      "cell_type": "code",
      "source": [
        "# 4 bola putih\n",
        "P(select('W', 4), U6)"
      ],
      "metadata": {
        "colab": {
          "base_uri": "https://localhost:8080/"
        },
        "id": "yvcUtFDuO0y7",
        "outputId": "7d452fb3-a87a-485d-c13d-f7f47191270d"
      },
      "execution_count": null,
      "outputs": [
        {
          "output_type": "execute_result",
          "data": {
            "text/plain": [
              "Fraction(350, 4807)"
            ]
          },
          "metadata": {},
          "execution_count": 50
        }
      ]
    },
    {
      "cell_type": "markdown",
      "source": [
        "### Balls in Bag via arithmetic\n",
        "\n",
        "Kita dapat memverifikasi perhitungan diatas dengan menggunakan aritmatik. Pertama, berapa cara kita bisa memilih 6 dari 9 bola merah? Untuk bola pertama, kita dapat memilih bola merah mana saja dari 9 yang ada, lalu pilih satu lagi dari 8 sisanya, dan seterusnya sampai terpilih 6 bola. Namun, dalam kasus ini urutan dari bola tidak diperhatikan, Sehingga dalam kasus ini dapat digunakan **kombinasi**. Secara umum, jumlah cara untuk mengambil *c* dari *n* item adalah: \n",
        "\n",
        "(*n* choose *c*) = *n*! / ((*n* - *c*)! &times; c!).\n",
        "\n",
        "Kita dapat menerjemahkan menjadi sebuah kode:"
      ],
      "metadata": {
        "id": "LoRADUFyPTWI"
      }
    },
    {
      "cell_type": "code",
      "source": [
        "from math import factorial\n",
        "\n",
        "def choose(n, c):\n",
        "    \"Number of ways to choose c items from a list of n items.\"\n",
        "    return factorial(n) // (factorial(n - c) * factorial(c))\n",
        "\n",
        "choose(9, 6)"
      ],
      "metadata": {
        "colab": {
          "base_uri": "https://localhost:8080/"
        },
        "id": "tko-vK_ZPjbr",
        "outputId": "8f6353c2-56c6-4836-a9d4-f0ce90def076"
      },
      "execution_count": null,
      "outputs": [
        {
          "output_type": "execute_result",
          "data": {
            "text/plain": [
              "84"
            ]
          },
          "metadata": {},
          "execution_count": 51
        }
      ]
    },
    {
      "cell_type": "markdown",
      "source": [
        "\n",
        "Sekarang, kita dapat memverifikasi hasil perhitungan sebelumnya. (Karena `P` adalah rasio sedangkan `choose` merupakan jumlah asli,\n",
        "maka nilai `P` harus dikalikan dengan `N`, besar dari ruang sampel, agar kedua sisi berada pada skala yang sama.)"
      ],
      "metadata": {
        "id": "94N-AVNlPoZZ"
      }
    },
    {
      "cell_type": "code",
      "source": [
        "# Semua bola merah*.\n",
        "N = len(U6)\n",
        "N * P(select('R', 6), U6) == choose(9, 6)"
      ],
      "metadata": {
        "colab": {
          "base_uri": "https://localhost:8080/"
        },
        "id": "geyxDx9DPsHl",
        "outputId": "464faff5-4a56-4af1-9bc7-0ebc7725d742"
      },
      "execution_count": null,
      "outputs": [
        {
          "output_type": "execute_result",
          "data": {
            "text/plain": [
              "True"
            ]
          },
          "metadata": {},
          "execution_count": 52
        }
      ]
    },
    {
      "cell_type": "code",
      "source": [
        "# 3 biru, 1 merah, dan 2 putih\n",
        "N * P(select('B', 3) & select('W', 2) & select('R', 1), U6) == choose(6, 3) * choose(8, 2) * choose(9, 1)"
      ],
      "metadata": {
        "colab": {
          "base_uri": "https://localhost:8080/"
        },
        "id": "Njck3yNFPzWB",
        "outputId": "b9c7f5c4-8eed-4d92-a3af-89dfe73437d9"
      },
      "execution_count": null,
      "outputs": [
        {
          "output_type": "execute_result",
          "data": {
            "text/plain": [
              "True"
            ]
          },
          "metadata": {},
          "execution_count": 53
        }
      ]
    },
    {
      "cell_type": "code",
      "source": [
        "# 4 bola putih\n",
        "N * P(select('W', 4), U6) == choose(8, 4) * choose(6 + 9, 2)  # (6 + 9 non-white balls)"
      ],
      "metadata": {
        "colab": {
          "base_uri": "https://localhost:8080/"
        },
        "id": "KF63bbKKP3_r",
        "outputId": "47da223a-d5da-492f-bb17-f8a3a02b810a"
      },
      "execution_count": null,
      "outputs": [
        {
          "output_type": "execute_result",
          "data": {
            "text/plain": [
              "True"
            ]
          },
          "metadata": {},
          "execution_count": 54
        }
      ]
    },
    {
      "cell_type": "markdown",
      "source": [
        "## **Non-Equiprobable Outcomes**"
      ],
      "metadata": {
        "id": "c4ZplpNlXZFA"
      }
    },
    {
      "cell_type": "markdown",
      "source": [
        "Sejauh ini, kita memiliki asumsi bahwa segala sesuatu ideal. Misal sebuah koin akan selalu memiliki probabilitas 50:50, dadu 6 sisi memiliki probabilitas sama untuk tiap sisinya, dll. Namun, pada kenyataannya segala sesuatu tidak selalu ideal, misal ada dadu atau yang berat sebelah karena ada error di proses manufaktur.\n",
        "\n",
        "Dalam sesi ini, juga akan diperkenalkan beberapa istilah baru:\n",
        "\n",
        "* [Frekuensi](https://en.wikipedia.org/wiki/Frequency_%28statistics%29): Bilangan non-negatif yang mendeskripsikan seberapa sering sebuah kejadian terjadi. Bisa dalam bentuk bilangan seperti \"5\", atau sebuah rasio seperti \"1/6\".\n",
        "\n",
        "* [Distribusi](http://mathworld.wolfram.com/StatisticalDistribution.html): Sebuah pemetaan dari outcome/hasil ke frekuensi dari *outcome*. Kita memperbolehkan ruang sampel sebagai distribusi. \n",
        "\n",
        "* [Probability Distribution](https://en.wikipedia.org/wiki/Probability_distribution): *Probability distribution* adalah distribusi yang frekuensinya jika dijumlahkan bernilai 1. "
      ],
      "metadata": {
        "id": "KkPpTPuSXQqP"
      }
    },
    {
      "cell_type": "code",
      "source": [
        "from collections import Counter\n",
        "        \n",
        "class Dist(Counter): \n",
        "    \"A Distribution of {outcome: frequency} pairs.\""
      ],
      "metadata": {
        "id": "0o_TVgFJXemb"
      },
      "execution_count": 56,
      "outputs": []
    },
    {
      "cell_type": "markdown",
      "source": [
        "Karena `Dist` adalah sebuah `Counter`, Kita dapat menginisiasi seperti berikut:"
      ],
      "metadata": {
        "id": "gCR2T6xsXpCf"
      }
    },
    {
      "cell_type": "code",
      "source": [
        "# A set of equiprobable outcomes:\n",
        "Dist({1, 2, 3, 4, 5, 6})"
      ],
      "metadata": {
        "colab": {
          "base_uri": "https://localhost:8080/"
        },
        "id": "LQyggF_FX3CL",
        "outputId": "4bd88bb4-14cc-4b90-ff0e-fb88d941fffe"
      },
      "execution_count": 57,
      "outputs": [
        {
          "output_type": "execute_result",
          "data": {
            "text/plain": [
              "Dist({1: 1, 2: 1, 3: 1, 4: 1, 5: 1, 6: 1})"
            ]
          },
          "metadata": {},
          "execution_count": 57
        }
      ]
    },
    {
      "cell_type": "code",
      "source": [
        "# A collection of outcomes, with repetition indicating frequency:\n",
        "Dist('THHHTTHHT')"
      ],
      "metadata": {
        "colab": {
          "base_uri": "https://localhost:8080/"
        },
        "id": "gOxPYyUdX6iQ",
        "outputId": "7023ddc1-3fbd-4bb4-b3e9-145668157ef6"
      },
      "execution_count": 58,
      "outputs": [
        {
          "output_type": "execute_result",
          "data": {
            "text/plain": [
              "Dist({'T': 4, 'H': 5})"
            ]
          },
          "metadata": {},
          "execution_count": 58
        }
      ]
    },
    {
      "cell_type": "code",
      "source": [
        "# A mapping of {outcome: frequency} pairs:\n",
        "Dist({'H': 5, 'T': 4})"
      ],
      "metadata": {
        "colab": {
          "base_uri": "https://localhost:8080/"
        },
        "id": "xz6Flbv5X9wu",
        "outputId": "7b1be0a2-d109-46bb-f4c3-bc8b4029346b"
      },
      "execution_count": 59,
      "outputs": [
        {
          "output_type": "execute_result",
          "data": {
            "text/plain": [
              "Dist({'H': 5, 'T': 4})"
            ]
          },
          "metadata": {},
          "execution_count": 59
        }
      ]
    },
    {
      "cell_type": "code",
      "source": [
        "# Keyword arguments:\n",
        "Dist(H=5, T=4) == Dist({'H': 5}, T=4) == Dist('TTTT', H=5)"
      ],
      "metadata": {
        "colab": {
          "base_uri": "https://localhost:8080/"
        },
        "id": "vJyaMkJyYBEn",
        "outputId": "26269502-2785-4e4f-f46e-39c3a2bdf71c"
      },
      "execution_count": 60,
      "outputs": [
        {
          "output_type": "execute_result",
          "data": {
            "text/plain": [
              "True"
            ]
          },
          "metadata": {},
          "execution_count": 60
        }
      ]
    },
    {
      "cell_type": "markdown",
      "source": [
        "Sekarang, kita akan modifikasi kode yang sudah ada untuk kasus distribusi.\n",
        "\n",
        "- Sample spaces dan events dapat berupa `set` atau `Dist`.\n",
        "- Ruang sample bisa dalam bentuk non-probability distribution seperti `Dist(H=50, T=50)`; hasilnya akan sama\n",
        "dengan ruang sampel jika didefinisikan dengan probability distribution seperti `Dist(H=1/2, T=1/2)`.\n",
        "- Fungsi `cases` sekarang akan menjumlahkan frekuensi di dalam distribusi (sebelumnya hanya menghitung length dari sebuah set).\n",
        "- Fungsi `favorable` sekarang menghasilkan `Dist` dari *favorable outcomes* dan frekuensinya (bukan `set`).\n",
        "- Fungsi `Fraction` di definisikan ulang sebagai `\"/\"`, bukan `fractions.Fraction`, karena frekuensi mungkin saja berbentuk desimal.\n",
        "- `P` tidak berubah."
      ],
      "metadata": {
        "id": "gEDedI3PXyeD"
      }
    },
    {
      "cell_type": "code",
      "source": [
        "import itertools\n",
        "import random\n",
        "from fractions import Fraction\n",
        "\n",
        "def cases(outcomes): \n",
        "    \"The total frequency of all the outcomes.\"\n",
        "    return sum(Dist(outcomes).values())\n",
        "\n",
        "def favorable(event, space):\n",
        "    \"A distribution of outcomes from the sample space that are in the event.\"\n",
        "    space = Dist(space)\n",
        "    return Dist({x: space[x] \n",
        "                 for x in space if x in event})\n",
        "\n",
        "def Fraction(n, d): return n / d\n",
        "\n",
        "def P(event, space): \n",
        "    \"The probability of an event, given a sample space.\"\n",
        "    return Fraction(cases(favorable(event, space)), \n",
        "                    cases(space))"
      ],
      "metadata": {
        "id": "SHkhvs5-YETB"
      },
      "execution_count": 61,
      "outputs": []
    },
    {
      "cell_type": "markdown",
      "source": [
        "Sebagai contoh, berikut adalah probabilitas dari sebuah dadu yang jelek dengan harapan keluar angka genap. Dadu terlihat memiliki preferensi untuk keluar angka 6 :"
      ],
      "metadata": {
        "id": "UntRmbhJYLLc"
      }
    },
    {
      "cell_type": "code",
      "source": [
        "Crooked = Dist({1: 0.1, 2: 0.1, 3: 0.1, 4: 0.1, 5: 0.1, 6: 0.5})\n",
        "even = {2,4,6}\n",
        "\n",
        "P(even, Crooked)"
      ],
      "metadata": {
        "colab": {
          "base_uri": "https://localhost:8080/"
        },
        "id": "uNRqqNxCYSEy",
        "outputId": "7d0ad81a-769c-4106-8b70-c634bf2dae99"
      },
      "execution_count": 62,
      "outputs": [
        {
          "output_type": "execute_result",
          "data": {
            "text/plain": [
              "0.7"
            ]
          },
          "metadata": {},
          "execution_count": 62
        }
      ]
    },
    {
      "cell_type": "markdown",
      "source": [
        "Contoh lain, sebuah [artikel](http://people.kzoo.edu/barth/math105/moreboys.pdf) memiliki data untuk keluarga dengan 2 anak di Denmark, dimana `GB` berarti anak pertama adalah perempuan \"Girl\" dan anak kedua \"Boy\".\n",
        "\n",
        "    GG: 121801    GB: 126840\n",
        "    BG: 127123    BB: 135138"
      ],
      "metadata": {
        "id": "16UDnzu2YVy-"
      }
    },
    {
      "cell_type": "code",
      "source": [
        "DK = Dist(GG=121801, GB=126840,\n",
        "          BG=127123, BB=135138)"
      ],
      "metadata": {
        "id": "jQCaRvNqYcRt"
      },
      "execution_count": 77,
      "outputs": []
    },
    {
      "cell_type": "code",
      "source": [
        "first_girl  = {'GG', 'GB'}\n",
        "P(first_girl, DK)"
      ],
      "metadata": {
        "colab": {
          "base_uri": "https://localhost:8080/"
        },
        "id": "Ll6Onwbza4wb",
        "outputId": "dd93ef9f-e241-472d-9f58-192a1e1afd8e"
      },
      "execution_count": 78,
      "outputs": [
        {
          "output_type": "execute_result",
          "data": {
            "text/plain": [
              "0.48667063350701306"
            ]
          },
          "metadata": {},
          "execution_count": 78
        }
      ]
    },
    {
      "cell_type": "code",
      "source": [
        "second_girl = {'GG', 'BG'}\n",
        "P(second_girl, DK)"
      ],
      "metadata": {
        "colab": {
          "base_uri": "https://localhost:8080/"
        },
        "id": "lDVHxq99Yt1Q",
        "outputId": "a1eaba91-a218-4a4e-8e4a-7d7ea57321d9"
      },
      "execution_count": 79,
      "outputs": [
        {
          "output_type": "execute_result",
          "data": {
            "text/plain": [
              "0.4872245557856497"
            ]
          },
          "metadata": {},
          "execution_count": 79
        }
      ]
    },
    {
      "cell_type": "markdown",
      "source": [
        "Yang berarti kemungkinan untuk lahir anak perempuan berada di antara 48% and 49%. Kemungkinan untuk perempuan sedikit lebih tinggi untuk anak kedua. \n",
        "\n",
        "Jika sudah memiliki anak pertama, apakah anda lebih mungkin untuk mendapatkan anak kedua dengan gender yang sama?"
      ],
      "metadata": {
        "id": "pcgDPGGdY2fw"
      }
    },
    {
      "cell_type": "code",
      "source": [
        "same = {'GG', 'BB'}\n",
        "P(same, DK)"
      ],
      "metadata": {
        "colab": {
          "base_uri": "https://localhost:8080/"
        },
        "id": "-1zgr6w8Y6Xg",
        "outputId": "ddb51a25-ed09-402c-e73a-20dc6c90c016"
      },
      "execution_count": 65,
      "outputs": [
        {
          "output_type": "execute_result",
          "data": {
            "text/plain": [
              "0.5029124959385557"
            ]
          },
          "metadata": {},
          "execution_count": 65
        }
      ]
    },
    {
      "cell_type": "markdown",
      "source": [
        "Ya, tapi hanya 0.3%. lebih tinggi"
      ],
      "metadata": {
        "id": "RGHpXheuY8pe"
      }
    },
    {
      "cell_type": "markdown",
      "source": [
        "## **Predicates as Event**"
      ],
      "metadata": {
        "id": "7Jph7dF6ZNnE"
      }
    },
    {
      "cell_type": "code",
      "source": [
        "# Fungsi-fungsi sebelumnya\n",
        "\n",
        "import itertools\n",
        "import random\n",
        "from fractions import Fraction\n",
        "from collections import Counter\n",
        "        \n",
        "class Dist(Counter): \n",
        "    \"A Distribution of {outcome: frequency} pairs.\"\n",
        "\n",
        "def cases(outcomes): \n",
        "    \"The total frequency of all the outcomes.\"\n",
        "    return sum(Dist(outcomes).values())\n",
        "\n",
        "def favorable(event, space):\n",
        "    \"A distribution of outcomes from the sample space that are in the event.\"\n",
        "    space = Dist(space)\n",
        "    return Dist({x: space[x] \n",
        "                 for x in space if x in event})\n",
        "\n",
        "def Fraction(n, d): return n / d\n",
        "\n",
        "def P(event, space): \n",
        "    \"The probability of an event, given a sample space.\"\n",
        "    return Fraction(cases(favorable(event, space)), \n",
        "                    cases(space))"
      ],
      "metadata": {
        "id": "DY2oDAy9ZKV6"
      },
      "execution_count": 66,
      "outputs": []
    },
    {
      "cell_type": "markdown",
      "source": [
        "Untuk menghitung probabilitas dari dadu genap, sebelumnya digunakan cara:\n",
        "\n",
        "    even = {2, 4, 6}\n",
        "    \n",
        "Tapi cara tersebut tidak elegan &mdash;kita perlu menuliskan semua angka genap antara 1 sampai 6. Jika jumlah sisi dari dadu berubah, kita perlu kembali untuk mendefinisikan `even`.  Cara yang lebih elegan adalah dengan menggunakan fungsi:"
      ],
      "metadata": {
        "id": "xpo0GhPpZiIu"
      }
    },
    {
      "cell_type": "code",
      "source": [
        "def even(n): return n % 2 == 0"
      ],
      "metadata": {
        "id": "h7gx7OWzZUAc"
      },
      "execution_count": 67,
      "outputs": []
    },
    {
      "cell_type": "markdown",
      "source": [
        "Untuk membuat `P(even, D)` bekerja, kita akan memperbolehkan `Event` sebagai sebuah `set` atau `callable` (yaitu, fungsi yang menghasilkan `true` jika _outcomes_ adalah bagian dari _event_). Kita tidak perlu memodifikasi `P`, namun  `favorable` perlu untuk mengonversi `event` dalam bentuk fungsi ke bentuk `set`:"
      ],
      "metadata": {
        "id": "mj5pUEmVZqnZ"
      }
    },
    {
      "cell_type": "code",
      "source": [
        "def favorable(event, space):\n",
        "    \"A distribution of outcomes from the sample space that are in the event.\"\n",
        "    if callable(event):\n",
        "        event = {x for x in space if event(x)}\n",
        "    space = Dist(space)\n",
        "    return Dist({x: space[x] \n",
        "                 for x in space if x in event})\n",
        "\n",
        "D     = {1, 2, 3, 4, 5, 6}\n",
        "favorable(even, D)\n",
        "\n",
        "P(even, D)"
      ],
      "metadata": {
        "colab": {
          "base_uri": "https://localhost:8080/"
        },
        "id": "Amh2yMMoZvlo",
        "outputId": "4f0749c7-4dea-4e22-830e-ac6532739e58"
      },
      "execution_count": 70,
      "outputs": [
        {
          "output_type": "execute_result",
          "data": {
            "text/plain": [
              "0.5"
            ]
          },
          "metadata": {},
          "execution_count": 70
        }
      ]
    },
    {
      "cell_type": "markdown",
      "source": [
        "Kita akan definisikan `die` untuk membuat sample space untuk dadu dengan *n*-sisi:"
      ],
      "metadata": {
        "id": "LEUUlMhgaA3q"
      }
    },
    {
      "cell_type": "code",
      "source": [
        "def die(n): return set(range(1, n + 1))\n",
        "\n",
        "favorable(even, die(12))"
      ],
      "metadata": {
        "colab": {
          "base_uri": "https://localhost:8080/"
        },
        "id": "BzXUXnkyZ9mK",
        "outputId": "2f92f704-8917-45ec-bd36-1819f76cc24d"
      },
      "execution_count": 71,
      "outputs": [
        {
          "output_type": "execute_result",
          "data": {
            "text/plain": [
              "Dist({2: 1, 4: 1, 6: 1, 8: 1, 10: 1, 12: 1})"
            ]
          },
          "metadata": {},
          "execution_count": 71
        }
      ]
    },
    {
      "cell_type": "code",
      "source": [
        "P(even, die(12))"
      ],
      "metadata": {
        "colab": {
          "base_uri": "https://localhost:8080/"
        },
        "id": "exv45sD0aMpK",
        "outputId": "e92153f6-b702-4426-bdac-9e3a98fea6b1"
      },
      "execution_count": 72,
      "outputs": [
        {
          "output_type": "execute_result",
          "data": {
            "text/plain": [
              "0.5"
            ]
          },
          "metadata": {},
          "execution_count": 72
        }
      ]
    },
    {
      "cell_type": "code",
      "source": [
        "P(even, die(2000))"
      ],
      "metadata": {
        "colab": {
          "base_uri": "https://localhost:8080/"
        },
        "id": "fdyRZ0omaEM0",
        "outputId": "6a24c65b-1259-4d75-c143-c2215e65edc3"
      },
      "execution_count": 73,
      "outputs": [
        {
          "output_type": "execute_result",
          "data": {
            "text/plain": [
              "0.5"
            ]
          },
          "metadata": {},
          "execution_count": 73
        }
      ]
    },
    {
      "cell_type": "code",
      "source": [
        "P(even, die(2001))"
      ],
      "metadata": {
        "colab": {
          "base_uri": "https://localhost:8080/"
        },
        "id": "MBSRASpyaPYc",
        "outputId": "e0dce411-1919-4efd-f481-deb907434992"
      },
      "execution_count": 74,
      "outputs": [
        {
          "output_type": "execute_result",
          "data": {
            "text/plain": [
              "0.49975012493753124"
            ]
          },
          "metadata": {},
          "execution_count": 74
        }
      ]
    },
    {
      "cell_type": "markdown",
      "source": [
        "Kita dapat mendefinisikan event-event yang lebih rumit dengan menggunakan predikat; misal kita bisa mencari probabilitas dari penjumlahan *d* dadu 6 sisi adalah bilangan prima:"
      ],
      "metadata": {
        "id": "NxI8_knsaWaz"
      }
    },
    {
      "cell_type": "code",
      "source": [
        "def sum_dice(d): return Dist(sum(dice) for dice in itertools.product(D, repeat=d))\n",
        "\n",
        "def is_prime(n): return (n > 1 and not any(n % i == 0 for i in range(2, n)))\n",
        "\n",
        "for d in range(1, 9):\n",
        "    p = P(is_prime, sum_dice(d))\n",
        "    print(\"P(is_prime, sum_dice({})) = {}\".format(d, round(p, 3)))"
      ],
      "metadata": {
        "colab": {
          "base_uri": "https://localhost:8080/"
        },
        "id": "XmdY_V_yaW-M",
        "outputId": "ff92f941-2792-4791-bba2-da5ab8cfc5c1"
      },
      "execution_count": 75,
      "outputs": [
        {
          "output_type": "stream",
          "name": "stdout",
          "text": [
            "P(is_prime, sum_dice(1)) = 0.5\n",
            "P(is_prime, sum_dice(2)) = 0.417\n",
            "P(is_prime, sum_dice(3)) = 0.338\n",
            "P(is_prime, sum_dice(4)) = 0.333\n",
            "P(is_prime, sum_dice(5)) = 0.317\n",
            "P(is_prime, sum_dice(6)) = 0.272\n",
            "P(is_prime, sum_dice(7)) = 0.242\n",
            "P(is_prime, sum_dice(8)) = 0.236\n"
          ]
        }
      ]
    },
    {
      "cell_type": "markdown",
      "source": [
        "Note: is_prime yang prima, sum_dice (2) banyaknya pelemparan dua kali\n",
        "\n",
        "Dalam kasus ini, bilangan prima utk dadu 6 sisi di lempar 1-9 kali\n"
      ],
      "metadata": {
        "id": "AW8puT43agY8"
      }
    },
    {
      "cell_type": "code",
      "source": [
        "sum_dice(2)"
      ],
      "metadata": {
        "colab": {
          "base_uri": "https://localhost:8080/"
        },
        "id": "7pG0AkFYadyW",
        "outputId": "16f3c365-5878-4447-db35-d9578d2eebe1"
      },
      "execution_count": 76,
      "outputs": [
        {
          "output_type": "execute_result",
          "data": {
            "text/plain": [
              "Dist({2: 1, 3: 2, 4: 3, 5: 4, 6: 5, 7: 6, 8: 5, 9: 4, 10: 3, 11: 2, 12: 1})"
            ]
          },
          "metadata": {},
          "execution_count": 76
        }
      ]
    },
    {
      "cell_type": "markdown",
      "source": [
        "Note: hasilnya paling ujung 12:1, ini berarti 6 dan 6\n"
      ],
      "metadata": {
        "id": "FmpNrBNCam1s"
      }
    }
  ]
}